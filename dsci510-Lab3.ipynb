{
 "cells": [
  {
   "cell_type": "markdown",
   "metadata": {
    "collapsed": true,
    "pycharm": {
     "is_executing": false,
     "name": "#%% md\n"
    }
   },
   "source": [
    "Lab 3\n",
    "---\n",
    "Hello All,\n",
    "\n",
    "I am Dhrumil Soni, the CP of the course DSCI 510. Welcome to the lab.\n",
    "\n",
    "Guidelines for the Lab:\n",
    "- You will be given the lab assignment in the start of the lab. You're supposed to complete it by the deadline stated on DEN. Should be usually on Friday Midnight.  \n",
    "\n",
    "- You've to complete the assignments individually. If you are having trouble completing the assignment do let me know, I will clear your doubts and guide you but I'll not write code for you and no one else should :) !!!  \n",
    "\n",
    "- You have to fill in the code to this notebook and upload it to your repository. And simply, submit the link to the repo. Also, the repository name has to be in the form 'dsci510-lab(Lab Number)'. For example, first lab would be 'dsci510-lab1'  \n",
    "\n",
    "- You are encouraged to look up resources online like python docs and stackoverflow. But, you are encouraged to look up the topics and not the questions themselves  \n",
    "\n",
    "- Your last submission will be counted towards your grade on DEN and do not edit the repository after the deadline  "
   ]
  },
  {
   "cell_type": "markdown",
   "metadata": {},
   "source": [
    "Q1.[10 points] \n",
    "---\n",
    "Determine if triangle exists or not by checking the sides.  \n",
    "Input type: float, float, float  \n",
    "Return Output: boolean\n",
    "```\n",
    "Condition: \n",
    "each side is smaller than the summation of other two sides\n",
    "```\n",
    "---\n",
    "```\n",
    "Example:  \n",
    "Input  \n",
    "s1=4, s2=5, s3=7\n",
    "Output\n",
    "True\n",
    "```\n",
    "---\n",
    "Rubric: Binary"
   ]
  },
  {
   "cell_type": "code",
   "execution_count": 1,
   "metadata": {},
   "outputs": [],
   "source": [
    "def is_triangle(s1, s2, s3):\n",
    "    if s1 < s2 + s3 and s2 < s1 + s3 and s3 < s1 + s2:\n",
    "        return True\n",
    "    else:\n",
    "        return False"
   ]
  },
  {
   "cell_type": "code",
   "execution_count": 2,
   "metadata": {},
   "outputs": [
    {
     "data": {
      "text/plain": [
       "True"
      ]
     },
     "execution_count": 2,
     "metadata": {},
     "output_type": "execute_result"
    }
   ],
   "source": [
    "is_triangle(4, 5, 7)"
   ]
  },
  {
   "cell_type": "markdown",
   "metadata": {},
   "source": [
    "Q2.[10 points]\n",
    "---\n",
    "You are given a function stats which has two params: action(string) and number(float). This function should provide two functionalities:  \n",
    "1. new  \n",
    "   If action is **\"new\"** then a new number is specified for the further calculations. \n",
    "2. get_stat  \n",
    "   If action is **\"get_stat\"** then the code should return with the stats as specified in the format below.  \n",
    "\n",
    "You have to create function `update_stats` which would be invoked when the action is \"new\" and this function should update the stats accordingly for the \"get_stat\" functionality.  \n",
    "\n",
    "Additionally, you have to create functions `get_average` and `get_standard_deviation` which would be invoked when the action is \"get_stat\". You might think that you won't need these functions, but, it is a good idea to calculate values only when required.   \n",
    "\n",
    "\"get_stat\" output format(print):  \n",
    "Average is (value_of_average)  \n",
    "Standard Deviation is (value_of_standard_deviation)  \n",
    "\n",
    "\"new\" output format(print):  \n",
    "Last added number is (last_added_number)  \n",
    "\n",
    "Note: You may need to store some variables outside the functions(perhaps in a different cell altogether) for persistence.  \n",
    "\n",
    "Formula:  \n",
    "$avg = {(\\sum_i x_i)}/N$  \n",
    "$stddev = \\sqrt{E(x^2)-E(x)^2}$\n",
    "\n",
    "---\n",
    "```\n",
    "Example:\n",
    "Input\n",
    "action=new, number=123\n",
    "action=new, number=124\n",
    "action=get_stat\n",
    "Output\n",
    "Last added is 123\n",
    "Last added is 124\n",
    "Average is 123.5\n",
    "Standard Deviation is 0.5\n",
    "```\n",
    "---\n",
    "Rubric: 5 points if code works and prints at the appropriately. Full points if values are correct too. "
   ]
  },
  {
   "cell_type": "code",
   "execution_count": 3,
   "metadata": {
    "scrolled": true
   },
   "outputs": [],
   "source": [
    "count = 0\n",
    "def stats(action, number=None):\n",
    "    global count\n",
    "    if action == \"new\":\n",
    "        count += 1                   #Counts how many number are typed in.\n",
    "        update_stats(number)\n",
    "    elif action == \"get_stat\":\n",
    "        print(\"Average is \", get_average(count))\n",
    "        print(\"Standard Deviation is \", get_standard_deviation(count))"
   ]
  },
  {
   "cell_type": "code",
   "execution_count": 4,
   "metadata": {},
   "outputs": [],
   "source": [
    "total = 0\n",
    "ave = 0\n",
    "sum_of_squareX = 0\n",
    "\n",
    "def update_stats(number):\n",
    "    global total, sum_of_squareX\n",
    "    print(\"Last added is\", number)\n",
    "    total = total + number                           #The sum of all number typed in.\n",
    "    sum_of_squareX = sum_of_squareX + number**2      #The sum of square of all numbers typed in.\n",
    "    \n",
    "def get_average(count):\n",
    "    global total, ave\n",
    "    ave = total / count                              #The average of all number typed in.\n",
    "    return ave\n",
    "\n",
    "def get_standard_deviation(count):\n",
    "    global sum_of_squareX, total\n",
    "    ave_squareX = sum_of_squareX / count             #The expection of sum of square of all numbers typed in\n",
    "    square_of_ave = ave**2                           #Expection's square\n",
    "    return (ave_squareX - square_of_ave)**(1/2)"
   ]
  },
  {
   "cell_type": "code",
   "execution_count": 5,
   "metadata": {},
   "outputs": [
    {
     "name": "stdout",
     "output_type": "stream",
     "text": [
      "Last added is 123\n",
      "Last added is 124\n",
      "Average is  123.5\n",
      "Standard Deviation is  0.5\n"
     ]
    }
   ],
   "source": [
    "#Initialize all values for every new calculation.\n",
    "total = 0\n",
    "ave = 0\n",
    "sum_of_squareX = 0\n",
    "count = 0\n",
    "\n",
    "stats(action = 'new', number=123)\n",
    "stats(action = 'new', number=124)\n",
    "stats(action = 'get_stat')"
   ]
  },
  {
   "cell_type": "markdown",
   "metadata": {},
   "source": [
    "Q3[10 points]\n",
    "---\n",
    "Determine if string has valid parantheses or not.    \n",
    "Input: string  \n",
    "Return Output: bool  \n",
    "\n",
    "Note: Only round brackets will be provided in the input. \n",
    "\n",
    "---\n",
    "```\n",
    "Example\n",
    "1. Input: (())  \n",
    "   Output: True\n",
    "2. Input: ((()())  \n",
    "   Output: False\n",
    "```\n",
    "---\n",
    "2 points if code returns appropriate datatype's value. 5 points if code works for the given examples and not universally. 10 points if code works for all cases. "
   ]
  },
  {
   "cell_type": "code",
   "execution_count": 6,
   "metadata": {
    "scrolled": true
   },
   "outputs": [],
   "source": [
    "def valid_parantheses(val):\n",
    "    count = 0\n",
    "    for i in val:\n",
    "        if i == \"(\":         #Use 1 to represent \"(\".\n",
    "            count += 1\n",
    "        elif i == \")\":       #Use -1 to represent \")\".\n",
    "            count -= 1\n",
    "        if count < 0:        #Negativity represents exist of extra \")\" that doesn't have \"(\" in counter.\n",
    "            break\n",
    "            return False     #Then the parantheses are invalid.\n",
    "    if count == 0:           #Zero represents at the end, all \"(\" \")\" have counter part that forms \"()\".\n",
    "        return True\n",
    "    else:\n",
    "        return False         #Any number other than 0, represents extra \"(\" or \")\"."
   ]
  },
  {
   "cell_type": "code",
   "execution_count": 7,
   "metadata": {},
   "outputs": [
    {
     "data": {
      "text/plain": [
       "True"
      ]
     },
     "execution_count": 7,
     "metadata": {},
     "output_type": "execute_result"
    }
   ],
   "source": [
    "valid_parantheses(\"(())\")"
   ]
  },
  {
   "cell_type": "code",
   "execution_count": 8,
   "metadata": {},
   "outputs": [
    {
     "data": {
      "text/plain": [
       "False"
      ]
     },
     "execution_count": 8,
     "metadata": {},
     "output_type": "execute_result"
    }
   ],
   "source": [
    "valid_parantheses(\"((()())\")"
   ]
  },
  {
   "cell_type": "markdown",
   "metadata": {},
   "source": [
    "Finished Early? Bonus/Puzzle Question[5 points]\n",
    "---\n",
    "**Problem Statement:**  \n",
    "Luis, Roni and Diego are best friends. They have known each other since kindergarten. That's why they often share everything with each other and work together on some very hard problems.  \n",
    "\n",
    "Today is Diego's birthday. He really loves pizza so he wants to invite his friends to the pizza restaurant near his house to celebrate her birthday, including his best friends Luis and Roni.  \n",
    "\n",
    "He has ordered a very big round pizza, in order to serve her many friends. Exactly n of Diego's friends are here. That's why he has to divide the pizza into n+1 slices (Diego also needs to eat). He wants the slices to be exactly the same size and shape. If not, some of his friends will get mad and go home early, and the party will be over.  \n",
    "\n",
    "Diego is now hungry. He wants to cut the pizza with minimum of straight cuts. A cut is a straight segment, it might have ends inside or outside the pizza. But he is too lazy to pick up the calculator.  \n",
    "\n",
    "As usual, he will ask Luis and Roni for help. But they haven't come yet. Could you help Diego with this problem?  \n",
    "\n",
    "Input: Integer  \n",
    "Output: Integer  \n",
    "\n",
    "---\n",
    "```\n",
    "Example\n",
    "Input\n",
    "5\n",
    "Output\n",
    "3\n",
    "```\n",
    "---\n",
    "Rubric: Binary"
   ]
  },
  {
   "cell_type": "code",
   "execution_count": 9,
   "metadata": {},
   "outputs": [],
   "source": [
    "def pizza_problem(number_of_friends):\n",
    "    number_of_people = number_of_friends + 1.\n",
    "    if number_of_people % 2 == 0:               #If even number of people, then cut through the center of the pizza.\n",
    "        return int(number_of_people / 2)\n",
    "    else:\n",
    "        return int(number_of_people)            #If odd number of people, center must be consider as an end of cut."
   ]
  },
  {
   "cell_type": "code",
   "execution_count": 10,
   "metadata": {},
   "outputs": [
    {
     "data": {
      "text/plain": [
       "3"
      ]
     },
     "execution_count": 10,
     "metadata": {},
     "output_type": "execute_result"
    }
   ],
   "source": [
    "pizza_problem(5)"
   ]
  }
 ],
 "metadata": {
  "kernelspec": {
   "display_name": "Python 3",
   "language": "python",
   "name": "python3"
  },
  "language_info": {
   "codemirror_mode": {
    "name": "ipython",
    "version": 3
   },
   "file_extension": ".py",
   "mimetype": "text/x-python",
   "name": "python",
   "nbconvert_exporter": "python",
   "pygments_lexer": "ipython3",
   "version": "3.7.3"
  },
  "pycharm": {
   "stem_cell": {
    "cell_type": "raw",
    "metadata": {
     "collapsed": false
    },
    "source": []
   }
  }
 },
 "nbformat": 4,
 "nbformat_minor": 1
}
