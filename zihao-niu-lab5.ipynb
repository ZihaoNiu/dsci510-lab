{
 "cells": [
  {
   "cell_type": "markdown",
   "metadata": {
    "collapsed": true,
    "pycharm": {
     "is_executing": false,
     "name": "#%% md\n"
    }
   },
   "source": [
    "Lab 5\n",
    "---\n",
    "Hello All,\n",
    "\n",
    "I am Dhrumil Soni, the CP of the course DSCI 510. Welcome to the lab.\n",
    "\n",
    "Guidelines for the Lab:\n",
    "- You will be given the lab assignment in the start of the lab. You're supposed to complete it by the deadline stated on DEN. Should be usually on Friday Midnight.  \n",
    "\n",
    "- You've to complete the assignments individually. If you are having trouble completing the assignment do let me know, I will clear your doubts and guide you but I'll not write code for you and no one else should :) !!!  \n",
    "\n",
    "- You have to fill in the code to this notebook and upload it to your repository. And simply, submit the link to the repo. Also, the repository name has to be in the form '(First name)-(Last name)-lab(Lab Number)'. All characters in lowercase. For example, first lab for me would be 'dhrumil-soni-lab1'  \n",
    "\n",
    "- You are encouraged to look up resources online like python docs and stackoverflow. But, you are encouraged to look up the topics and not the questions themselves  \n",
    "\n",
    "- Your last submission will be counted towards your grade on DEN and do not edit the repository after the deadline  "
   ]
  },
  {
   "cell_type": "markdown",
   "metadata": {},
   "source": [
    "NOTE:  \n",
    "From the next lab\n",
    "    1. If you submit .py instead of .ipynb, you will recieve 0 points.  \n",
    "    2. Printing instead of return or vice versa will result into 0 points for that question. (If that was not in place already)\n",
    "    3. Please submit files with the naming format described above. \n",
    "    4. Use one repository for all files(I'll not accept github invite requests for every lab)\n",
    "    5. Do not create folders inside the repository unless stated otherwise. "
   ]
  },
  {
   "cell_type": "markdown",
   "metadata": {},
   "source": [
    "Q1.[10 points]\n",
    "---\n",
    "Given latitude and longitude, find the nearest airport. You can get the airport information by calling the `get_airport_info()` function which will return a dictionary with airport name as key and their longitude, latitude as a tuple in the value.  \n",
    "\n",
    "Hint: You are provided with a `get_distance()` function that will provide distance in kms between two tuples having (long, lat) format.  \n",
    "\n",
    "Input: float, float  \n",
    "Return Output: string  \n",
    "\n",
    "Example:  \n",
    "1. \n",
    "```\n",
    "Input  \n",
    "long=-118.289159, lat=34.024548\n",
    "Output  \n",
    "Operating Engineers Pension Trust Bldg Heliport\n",
    "```\n",
    "---\n",
    "Grading Rubric: Binary "
   ]
  },
  {
   "cell_type": "code",
   "execution_count": 1,
   "metadata": {},
   "outputs": [],
   "source": [
    "def get_airport_info():\n",
    "    file = open('Airports.txt', encoding='utf8')\n",
    "    values = dict()\n",
    "    cnt = 0\n",
    "    for line in file:\n",
    "        airport_name, coordinates = line.split('\\t')[1], line.split('\\t')[3].split(',')\n",
    "        lat, long = float(coordinates[0][1:]), float(coordinates[1][1:-2])\n",
    "        values[airport_name] = (lat, long)\n",
    "    return values"
   ]
  },
  {
   "cell_type": "code",
   "execution_count": 2,
   "metadata": {},
   "outputs": [],
   "source": [
    "from math import sin, cos, sqrt, atan2, radians\n",
    "def get_distance(point1, point2):\n",
    "    # approximate radius of earth in km\n",
    "    R = 6373.0\n",
    "    lat1 = radians(point1[0])\n",
    "    lon1 = radians(point1[1])\n",
    "    lat2 = radians(point2[0])\n",
    "    lon2 = radians(point2[1])\n",
    "    dlon = lon2 - lon1\n",
    "    dlat = lat2 - lat1\n",
    "    a = sin(dlat / 2)**2 + cos(lat1) * cos(lat2) * sin(dlon / 2)**2\n",
    "    c = 2 * atan2(sqrt(a), sqrt(1 - a))\n",
    "    distance = R * c\n",
    "    return distance"
   ]
  },
  {
   "cell_type": "code",
   "execution_count": 3,
   "metadata": {},
   "outputs": [],
   "source": [
    "def get_nearest_airport(long, lat):\n",
    "    places = get_airport_info()\n",
    "    min_distance = get_distance((long, lat), places['Total Rf Heliport'])#Assume first location is the closest one.\n",
    "    for key in places:\n",
    "        distance = get_distance((long, lat), places[key])\n",
    "        if distance <= min_distance:\n",
    "            min_distance = distance\n",
    "            location = key\n",
    "    return location"
   ]
  },
  {
   "cell_type": "code",
   "execution_count": 4,
   "metadata": {},
   "outputs": [
    {
     "name": "stdout",
     "output_type": "stream",
     "text": [
      "Nearest airport from USC is\n",
      " Your output:  Operating Engineers Pension Trust Bldg Heliport\n"
     ]
    }
   ],
   "source": [
    "print('Nearest airport from USC is\\n', 'Your output: ', get_nearest_airport(-118.289159, 34.024548))"
   ]
  },
  {
   "cell_type": "markdown",
   "metadata": {},
   "source": [
    "Q2.[10 points]\n",
    "---\n",
    "ROT13 (\"rotate by 13 places\", sometimes hyphenated ROT-13) is a simple encryption algorithm developed in ancient rome that replaces a letter with the 13th letter after it, in the alphabet. The algorithm provides virtually no cryptographic security and is often cited as a canonical example of weak encryption.  \n",
    "\n",
    "![title](https://upload.wikimedia.org/wikipedia/commons/3/33/ROT13_table_with_example.svg)\n",
    "\n",
    "Extend the original ROT13 algorithm, and write code for such a rotation whose rotation places is passed in the argument. Essentially, you have to write a ROTx whose x is passed as a argument. Each letter would be replaced by a letter some fixed number of positions down the alphabet.  \n",
    "\n",
    "Essentially, like this if rotation_places=3, \n",
    "\n",
    "![title](https://www.secplicity.org/wp-content/uploads/2017/05/Caesar_substition_cipher-750x393.png)  \n",
    "\n",
    "Note: You have to **preserve the letter case** for each character in the alphabet. However, for **special characters** on the other hand, you can simply **shift them down the ascii sequence** by rotating over all ascii characters.  \n",
    "\n",
    "Input: string, int  \n",
    "Return Output: string\n",
    "\n",
    "Example:  \n",
    "1. \n",
    "```\n",
    "Input  \n",
    "msg='hello', rotation_places=13  \n",
    "Output  \n",
    "uryyb\n",
    "```\n",
    "2. \n",
    "```\n",
    "Input  \n",
    "msg='xyz ', rotation_places=4  \n",
    "Output  \n",
    "bcd$\n",
    "```\n",
    "---\n",
    "Grading Rubric:  \n",
    "5 points if code returns correct answer but, letter case is not same or rotation over end of alphabet is not handled.  \n",
    "8 points if 5 points condition is satisfied but, special character rotation fails in corner cases :).  \n",
    "10 points if all is correct.  "
   ]
  },
  {
   "cell_type": "code",
   "execution_count": 5,
   "metadata": {},
   "outputs": [],
   "source": [
    "def rot(msg, rotation_places):\n",
    "    new_msg = ''\n",
    "    for i in msg:\n",
    "        if 'A' <= i <= 'Z':                                            #For uppercase\n",
    "            rotation = abs(rotation_places)%26                         #There are 26 letters in a rotation\n",
    "            if rotation_places >= 0:                                   #For right shift\n",
    "                new_ord = ord(i) + rotation\n",
    "                if new_ord > ord('Z'):                                 #Beyond 'Z', rotate to 'A'\n",
    "                    ord_remain = new_ord - ord('Z')\n",
    "                    new_msg = new_msg + chr(ord('A') + ord_remain - 1) \n",
    "                elif ord(i) <= new_ord <= ord('Z'):               \n",
    "                    new_msg = new_msg + chr(new_ord)\n",
    "            elif rotation_places < 0:                                  #For left shift\n",
    "                new_ord = ord(i) - rotation\n",
    "                if new_ord < ord('A'):                                 #Under 'A', rotate to 'Z'\n",
    "                    ord_remain = ord('A') - new_ord\n",
    "                    new_msg = new_msg + chr(ord('Z') - ord_remain + 1)\n",
    "                elif ord('A') <= new_ord <= ord('Z'):\n",
    "                    new_msg = new_msg + chr(new_ord) \n",
    "        elif 'a' <= i <= 'z':                                           #For lowercase\n",
    "            rotation = abs(rotation_places)%26                          #There are 26 letters in a rotation\n",
    "            if rotation_places >= 0:                                    #For right shift\n",
    "                new_ord = ord(i) + rotation\n",
    "                if new_ord > ord('z'):                                  #Beyond 'z', rotate to 'a'\n",
    "                    ord_remain = new_ord - ord('z')\n",
    "                    new_msg = new_msg + chr(ord('a') + ord_remain - 1) \n",
    "                elif ord(i) <= new_ord <= ord('z'):                 \n",
    "                    new_msg = new_msg + chr(new_ord)\n",
    "            elif rotation_places < 0:                                   #For left shift\n",
    "                new_ord = ord(i) - rotation\n",
    "                if new_ord < ord('a'):                                  #Under 'a', rotate to 'z'\n",
    "                    ord_remain = ord('a') - new_ord\n",
    "                    new_msg = new_msg + chr(ord('z') - ord_remain + 1)\n",
    "                elif ord('a') <= new_ord <= ord('z'):\n",
    "                    new_msg = new_msg + chr(new_ord)                  \n",
    "        elif not 'A' <= i <= 'Z' and not 'a' <= i <= 'z':               #Other charaters in ASCII 32-126\n",
    "            rotation = abs(rotation_places)%95                          #There are 95 characters in a rotation\n",
    "            if rotation_places >= 0:                                    #Right shift    \n",
    "                new_ord = ord(i) + rotation\n",
    "                if 32 <= new_ord <= 126:                                #Omit all control characters\n",
    "                    new_msg = new_msg + chr(new_ord)\n",
    "                elif new_ord > 126:                                     #Beyond 126, rotate to 32\n",
    "                    ord_remain = new_ord - 126\n",
    "                    new_msg = new_msg + chr(32 + ord_remain - 1) \n",
    "            elif rotation_places < 0:                                   #Left shift\n",
    "                new_ord = ord(i) - rotation\n",
    "                if 32 <= new_ord <= 126:                                #Omit all control characters\n",
    "                    new_msg = new_msg + chr(new_ord)\n",
    "                elif new_ord < 32:                                      #Under 32, rotate to 126\n",
    "                    ord_remain = 32 - new_ord\n",
    "                    new_msg = new_msg + chr(126 - ord_remain + 1)\n",
    "    return new_msg"
   ]
  },
  {
   "cell_type": "code",
   "execution_count": 6,
   "metadata": {},
   "outputs": [
    {
     "name": "stdout",
     "output_type": "stream",
     "text": [
      "Your output for msg=hello and rotation places=13 is uryyb\n"
     ]
    }
   ],
   "source": [
    "print('Your output for msg=hello and rotation places=13 is', rot('hello', 13))"
   ]
  },
  {
   "cell_type": "markdown",
   "metadata": {},
   "source": [
    "Q3.[10 points]\n",
    "---\n",
    "All DNA is composed of a series of nucleotides abbreviated as A, C, G, and T, for example: \"ACGAATTCCG\". When studying DNA, it is sometimes useful to identify repeated sequences within the DNA.  \n",
    "\n",
    "Write a function to find all the **10-letter-long sequences** (substrings) that occur more than once in a DNA molecule.  \n",
    "\n",
    "Input: string  \n",
    "Return Output: list of strings  \n",
    "\n",
    "Hint: If you use dictionaries, what will be the key? and value?   \n",
    "\n",
    "Example:  \n",
    "```\n",
    "Input  \n",
    "AAAAACCCCCAAAAACCCCCCAAAAAGGGTTT  \n",
    "Output  \n",
    "[\"AAAAACCCCC\", \"CCCCCAAAAA\"]  \n",
    "```\n",
    "---\n",
    "Grading Rubric: Binary"
   ]
  },
  {
   "cell_type": "code",
   "execution_count": 7,
   "metadata": {},
   "outputs": [],
   "source": [
    "def dna_sequences(sequence):\n",
    "    seq = []\n",
    "    unique_seq = []\n",
    "    for i in range(len(sequence)):                    #Taking all 10 letter long sequences start at first letter\n",
    "        seq.append(sequence[i:i + 10])\n",
    "        if i + 10 == len(sequence):\n",
    "            break\n",
    "    seq_dict = dict()\n",
    "    for key in seq:\n",
    "        character = key[0]\n",
    "        character_list = []\n",
    "        temp = ''\n",
    "        for i in key:                                 #Count all parts haveing same letter for all sequences\n",
    "            if i == character:\n",
    "                temp += i\n",
    "            else:\n",
    "                character_list.append(temp)\n",
    "                character = i\n",
    "                temp = i\n",
    "        character_list.append(temp)\n",
    "        seq_dict[key] = character_list                #Create dictionary with sequences as keys, parts as values\n",
    "    dna_list = [] \n",
    "    for i in range(len(seq) - 1):\n",
    "        k = i + 1\n",
    "        while k <= len(seq) - 1:\n",
    "            if seq_dict[seq[i]] == seq_dict[seq[k]]:  #Find all keys that have same value\n",
    "                dna_list.append(seq[i])\n",
    "                dna_list.append(seq[k])\n",
    "                break\n",
    "            k += 1\n",
    "    return list(set(dna_list))"
   ]
  },
  {
   "cell_type": "code",
   "execution_count": 8,
   "metadata": {
    "scrolled": true
   },
   "outputs": [
    {
     "name": "stdout",
     "output_type": "stream",
     "text": [
      "Your output for sequence=AAAAACCCCCAAAAACCCCCCAAAAAGGGTTT is ['AAAAACCCCC', 'CCCCCAAAAA']\n"
     ]
    }
   ],
   "source": [
    "print('Your output for sequence=AAAAACCCCCAAAAACCCCCCAAAAAGGGTTT is', dna_sequences('AAAAACCCCCAAAAACCCCCCAAAAAGGGTTT'))\n",
    "\n"
   ]
  },
  {
   "cell_type": "markdown",
   "metadata": {},
   "source": [
    "Bonus Question[5 points]\n",
    "---\n",
    "Given two lists s and t, return True if s has a subarray that is a anagram of t. Return False otherwise.  \n",
    "\n",
    "- A anagram of a sequence has the same count of values as the sequence but not necessarily in the same order.\n",
    "- Subarray is a contiguous sequence of values within a list/array\n",
    "\n",
    "Input: list of integers, list of integers  \n",
    "Return Output: Boolean\n",
    "\n",
    "Example:  \n",
    "```\n",
    "Input  \n",
    "s=[1, 2, 3, 4], t=[3, 2]  \n",
    "Output  \n",
    "True  \n",
    "```\n",
    "---\n",
    "Grading Rubric: Binary"
   ]
  },
  {
   "cell_type": "code",
   "execution_count": 9,
   "metadata": {
    "scrolled": true
   },
   "outputs": [],
   "source": [
    "def is_anagram(s, t):\n",
    "    all_list = []\n",
    "    i = 0\n",
    "    while True:\n",
    "        temp = s[i:i + len(t)]                #Take all possibel sorted subarray\n",
    "        temp.sort\n",
    "        all_list.append(temp)\n",
    "        if i + len(t) == len(s):\n",
    "            break\n",
    "        i += 1\n",
    "    t.sort()\n",
    "    if t in all_list:\n",
    "        return True\n",
    "    else:\n",
    "        return False"
   ]
  },
  {
   "cell_type": "code",
   "execution_count": 10,
   "metadata": {},
   "outputs": [
    {
     "name": "stdout",
     "output_type": "stream",
     "text": [
      "Your output for s=[1,2,3,4] and t=[3,2] is True\n"
     ]
    }
   ],
   "source": [
    "print('Your output for s=[1,2,3,4] and t=[3,2] is', is_anagram([1, 2, 3, 4],[3, 2]))"
   ]
  }
 ],
 "metadata": {
  "kernelspec": {
   "display_name": "Python 3",
   "language": "python",
   "name": "python3"
  },
  "language_info": {
   "codemirror_mode": {
    "name": "ipython",
    "version": 3
   },
   "file_extension": ".py",
   "mimetype": "text/x-python",
   "name": "python",
   "nbconvert_exporter": "python",
   "pygments_lexer": "ipython3",
   "version": "3.7.3"
  },
  "pycharm": {
   "stem_cell": {
    "cell_type": "raw",
    "metadata": {
     "collapsed": false
    },
    "source": []
   }
  }
 },
 "nbformat": 4,
 "nbformat_minor": 1
}
